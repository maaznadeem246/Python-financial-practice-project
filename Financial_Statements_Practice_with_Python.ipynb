{
 "cells": [
  {
   "cell_type": "code",
   "execution_count": 1,
   "metadata": {},
   "outputs": [],
   "source": [
    "#Data \n",
    "revenue = [14574.49, 7606.46, 8611.41, 9175.41, 8058.65, 8105.44, 11496.28, 9766.09, 10305.32, 14379.96, 10713.97, 15433.50]\n",
    "expenses = [12051.82, 5695.07, 12319.20, 12089.72, 8658.57, 840.20, 3285.73, 5821.12, 6976.93, 16618.61, 10054.37, 3803.96]\n"
   ]
  },
  {
   "cell_type": "code",
   "execution_count": 3,
   "metadata": {},
   "outputs": [
    {
     "name": "stdout",
     "output_type": "stream",
     "text": [
      "[2522.67, 1911.3900000000003, -3707.790000000001, -2914.3099999999995, -599.9200000000001, 7265.24, 8210.550000000001, 3944.9700000000003, 3328.3899999999994, -2238.6500000000015, 659.5999999999985, 11629.54]\n"
     ]
    }
   ],
   "source": [
    "profit = []\n",
    "for v in range(0,len(revenue)):\n",
    "    profit.append(revenue[v]-expenses[v])\n",
    "    \n",
    "print(profit)"
   ]
  },
  {
   "cell_type": "code",
   "execution_count": 5,
   "metadata": {},
   "outputs": [
    {
     "name": "stdout",
     "output_type": "stream",
     "text": [
      "[75680.1, 57341.7, -111233.7, -87429.3, -17997.6, 217957.2, 246316.5, 118349.1, 99851.7, -67159.5, 19788.0, 348886.2]\n"
     ]
    }
   ],
   "source": [
    "tax = [round(i*30,2) for i in profit]\n",
    "print(tax)"
   ]
  },
  {
   "cell_type": "code",
   "execution_count": 7,
   "metadata": {},
   "outputs": [
    {
     "name": "stdout",
     "output_type": "stream",
     "text": [
      "[-73157.43000000001, -55430.31, 107525.91, 84514.99, 17397.68, -210691.96000000002, -238105.95, -114404.13, -96523.31, 64920.85, -19128.4, -337256.66000000003]\n"
     ]
    }
   ],
   "source": [
    "profit_after_tax = []\n",
    "for u in range(0,len(profit)):\n",
    "    profit_after_tax.append(profit[u]-tax[u])\n",
    "    \n",
    "print(profit_after_tax)"
   ]
  },
  {
   "cell_type": "code",
   "execution_count": 11,
   "metadata": {},
   "outputs": [
    {
     "name": "stdout",
     "output_type": "stream",
     "text": [
      "[-5.02, -7.29, 12.49, 9.21, 2.16, -25.99, -20.71, -11.71, -9.37, 4.51, -1.79, -21.85]\n"
     ]
    }
   ],
   "source": [
    "profit_margin = []\n",
    "for y in range(0,len(profit)):\n",
    "    profit_margin.append(round(profit_after_tax[y]/revenue[y],2))\n",
    "\n",
    "print(profit_margin)"
   ]
  },
  {
   "cell_type": "code",
   "execution_count": 17,
   "metadata": {},
   "outputs": [
    {
     "name": "stdout",
     "output_type": "stream",
     "text": [
      "-72528.22666666667\n"
     ]
    }
   ],
   "source": [
    "mean_pat = sum(profit_after_tax)/len(profit_after_tax)\n",
    "print(mean_pat)"
   ]
  },
  {
   "cell_type": "code",
   "execution_count": 20,
   "metadata": {},
   "outputs": [
    {
     "name": "stdout",
     "output_type": "stream",
     "text": [
      "[False, True, True, True, True, False, False, False, False, True, True, False]\n"
     ]
    }
   ],
   "source": [
    "good_months = []\n",
    "for val in range(0,len(profit_after_tax)):\n",
    "    good_months.append(profit_after_tax[val]>mean_pat)\n",
    "print(good_months)"
   ]
  },
  {
   "cell_type": "code",
   "execution_count": 22,
   "metadata": {},
   "outputs": [
    {
     "name": "stdout",
     "output_type": "stream",
     "text": [
      "[True, False, False, False, False, True, True, True, True, False, False, True]\n"
     ]
    }
   ],
   "source": [
    "bad_months = []\n",
    "for val in range(0,len(profit_after_tax)):\n",
    "    bad_months.append(profit_after_tax[val]<mean_pat)\n",
    "print(bad_months)"
   ]
  },
  {
   "cell_type": "code",
   "execution_count": 25,
   "metadata": {},
   "outputs": [
    {
     "name": "stdout",
     "output_type": "stream",
     "text": [
      "[False, False, True, False, False, False, False, False, False, False, False, False]\n"
     ]
    }
   ],
   "source": [
    "best_month = []\n",
    "for val in range(0,len(profit_after_tax)):\n",
    "    best_month.append(profit_after_tax[val] == max(profit_after_tax))\n",
    "print(best_month)   "
   ]
  },
  {
   "cell_type": "code",
   "execution_count": 26,
   "metadata": {},
   "outputs": [
    {
     "name": "stdout",
     "output_type": "stream",
     "text": [
      "[False, False, False, False, False, False, False, False, False, False, False, True]\n"
     ]
    }
   ],
   "source": [
    "worst_month = []\n",
    "for val in range(0,len(profit_after_tax)):\n",
    "    worst_month.append(profit_after_tax[val] == min(profit_after_tax))\n",
    "print(worst_month)   "
   ]
  },
  {
   "cell_type": "code",
   "execution_count": 53,
   "metadata": {},
   "outputs": [],
   "source": [
    "revenue_1000 = [round(i,0) for i in revenue ]\n",
    "expenses_1000 = [round(i,0) for i in expenses ]\n",
    "profit_1000 = [round(i,0) for i in profit ]\n",
    "profit_after_tax_1000 = [round(i, 0) for i in profit_after_tax]\n",
    "\n",
    "revenue_1000 = [int(i) for i in revenue_1000 ]\n",
    "expenses_1000 = [int(i) for i in expenses_1000 ]\n",
    "profit_1000 = [int(i) for i in profit_1000 ]\n",
    "profit_after_tax_1000 = [int(i) for i in profit_after_tax_1000 ]\n",
    "\n",
    "monthss = [\"January\",\"February\",\"March\",\"April\",\"May\",\"June\",\"July\",\"August\",\"September\",\"October\",\"November\",\"December\"]\n",
    "good_months_1000 = [monthss[i] for i in range(0,len(good_months)) if good_months[i]  ]\n",
    "bad_months_1000 = [monthss[i] for i in range(0,len(good_months)) if not(good_months[i])  ]\n",
    "best_month_1000 = [monthss[i] for i in range(0,len(best_month)) if best_month[i]]\n",
    "worst_month_1000 = [monthss[i] for i in range(0,len(worst_month)) if worst_month[i]]\n"
   ]
  },
  {
   "cell_type": "code",
   "execution_count": 54,
   "metadata": {},
   "outputs": [
    {
     "name": "stdout",
     "output_type": "stream",
     "text": [
      "Revenue :\n",
      "[14574, 7606, 8611, 9175, 8059, 8105, 11496, 9766, 10305, 14380, 10714, 15434]\n",
      "Expenses :\n",
      "[12052, 5695, 12319, 12090, 8659, 840, 3286, 5821, 6977, 16619, 10054, 3804]\n",
      "Profit :\n",
      "[2523, 1911, -3708, -2914, -600, 7265, 8211, 3945, 3328, -2239, 660, 11630]\n",
      "Profit after tax :\n",
      "[-73157, -55430, 107526, 84515, 17398, -210692, -238106, -114404, -96523, 64921, -19128, -337257]\n",
      "Profit margin :\n",
      "[-5.02, -7.29, 12.49, 9.21, 2.16, -25.99, -20.71, -11.71, -9.37, 4.51, -1.79, -21.85]\n",
      "Good months :\n",
      "['February', 'March', 'April', 'May', 'October', 'November']\n",
      "Bad months :\n",
      "['January', 'June', 'July', 'August', 'September', 'December']\n",
      "Best month :\n",
      "['March']\n",
      "Worst month :\n",
      "['December']\n"
     ]
    }
   ],
   "source": [
    "print (\"Revenue :\") \n",
    "print (revenue_1000)\n",
    "print (\"Expenses :\") \n",
    "print (expenses_1000)\n",
    "print (\"Profit :\")\n",
    "print(profit_1000)\n",
    "print (\"Profit after tax :\")\n",
    "print (profit_after_tax_1000)\n",
    "print (\"Profit margin :\")\n",
    "print (profit_margin)\n",
    "print (\"Good months :\")\n",
    "print (good_months_1000)\n",
    "print (\"Bad months :\")\n",
    "print (bad_months_1000)\n",
    "print (\"Best month :\")\n",
    "print (best_month_1000)\n",
    "print (\"Worst month :\")\n",
    "print (worst_month_1000)"
   ]
  },
  {
   "cell_type": "code",
   "execution_count": null,
   "metadata": {},
   "outputs": [],
   "source": []
  }
 ],
 "metadata": {
  "kernelspec": {
   "display_name": "Python 3",
   "language": "python",
   "name": "python3"
  },
  "language_info": {
   "codemirror_mode": {
    "name": "ipython",
    "version": 3
   },
   "file_extension": ".py",
   "mimetype": "text/x-python",
   "name": "python",
   "nbconvert_exporter": "python",
   "pygments_lexer": "ipython3",
   "version": "3.6.5"
  }
 },
 "nbformat": 4,
 "nbformat_minor": 1
}
